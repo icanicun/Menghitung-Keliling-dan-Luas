#fungsi
def LuasLingkaran(r):
    luasLingkaran = 3.14 * r * r
    return luasLingkaran
def KelilingLingkaran(r):
    kelilingL = 3,14 * 2 * r
    return kelilingLingkaran 
def LuasJajarGenjang(alas,tinggi):
    luasJajarGenjang = alas * tinggi
    return luasJajarGenjang
def KelilingJajarGenjang(sisiX,sisiY):
    kelilingJG = 2 * sisiX + 2 * sisiY
    return kelilingJajarGenjang
def LuasPersegi(sisi):
    luasPersegi = sisi*sisi
    return luasPersegi
def KelilingPersegi(sisi):
    kelilingPersegi  = 4 * sisi
    return kelilingPersegi
def LuasPersegiPanjang(panjang, lebar):
    luasPersegiPanjang = panjang * lebar
    return luasPersegiPanjang
def KelilingPersegiPanjang(panjang, lebar):
    kelilingPersegiPanjang = 2 * panjang + 2 * lebar
    return kelilingPersegiPanjang
def LuasSegitiga(alas,tinggi):
    luasSegitiga = 0.5 * alas * tinggi
    return luasSegitiga
def KelilingSegitiga(sisiX, sisiY, sisiZ):
    kelilingSegitiga = sisiX + sisiY + sisiZ
    return kelilingSegitiga
#PROGRAM UTAMA
print("Media Perhitungan Luas & Keliling Bangun Datar")
print('')
print('')
pilihan = 1
while pilihan != 0:
    print("1. Luas Lingkaran")
    print("2. Keliling Lingkaran")
    print("3. Luas Jajar Genjang")
    print("4. Keliling Jajar Genjang")
    print("5. Luas Persegi")
    print("6. Keliling Persegi")
    print("7. Luas Persegi Panjang")
    print("8. Keliling Persegi Panjang")
    print("9. Luas Segitiga")
    print("10. Keliling Segitiga")
    print("0. Exit")
    print('')

    pilihan = int(input("Masukkan Pilihan : "))
    print('')
    print('')
    print('')
    if pilihan == 1:
        print("Luas Lingkaran")
        print('')
        r = float(input("Masukkan Jari - Jari : "))
        print('')
        print('')
        print("Luas Lingkaran =  %.2f" %LuasLingkaran(r))
        print('')
        print('')
    elif pilihan == 2:
        print("Keliling Lingkaran")
        print('')
        r = float(input("Masukkan Jari - Jari : "))
        print('')
        print('')
        print("Keliling Lingkaran = %.2f" %KelilingLingkaran(r))
        print('')
        print('')
    elif pilihan == 3:
        print("Luas Jarjar Genjang")
        print('')
        alas = float(input("Masukkan Alas : "))
        tinggi = float(input("Masukkan Tinggi : "))
        print('')
        print('')
        print("Luas Jajar Genjang = %.2f" %LuasJajarGenjang(alas,tinggi))
        print('')
        print('')
    elif pilihan == 4:
        print("Keliling Jajar Genjang")
        print('')
        sisiX = float(input("Masukkan Sisi X : "))
        sisiY = float(input("Masukkan Sisi Y : "))
        print('')
        print('')
        print("Keliling Jajar Genjang = %.2f" %KelilingJajarGenjang(sisiX,sisiY))
        print('')
        print('')
    elif pilihan == 5:
        print("Luas Persegi")
        print('')
        sisi = float(input("Masukkan Sisi : "))
        print('')
        print('')
        print("Luas Persegi = %.2f " %LuasPersegi(sisi))
        print('')
        print('')
    elif pilihan == 6:
        print("Keliling Persegi")
        print('')
        sisi = float(input("Masukkan Sisi : "))
        print('')
        print('')
        print("Keliling Persegi = %.2f " %KelilingPersegi(sisi))
        print('')
        print('')
    elif pilihan == 7:
        print("Luas Persegi Panjang")
        print('')
        panjang = float(input("Masukkan Panjang : "))
        lebar = float(input("Masukkan Lebar : "))
        print('')
        print('')
        print("Luas Persegi Panjang = %.2f " %LuasPersegiPanjang(panjang,lebar))
        print('')
        print('')
    elif pilihan == 8:
        print("Keliling Persegi Panjang")
        print('')
        panjang = float(input("Masukkan Panjang : "))
        lebar = float(input("Masukkan Lebar : "))
        print('')
        print('')
        print("Keliling Persegi Panjang = %.2f " %KelilingPersegiPanjang(panjang,lebar))
        print('')
        print('')
    elif pilihan == 9:
        print("Luas Segitiga")
        print('')
        alas = float(input("Masukkan Alas : "))
        tinggi = float(input("Masukkan Tinggi : "))
        print('')
        print('')
        print("Luas Segitiga = %.2f" %LuasSegitiga(alas,tinggi))
        print('')
        print('')
    elif pilihan == 10:
        print("Keliling Segitiga")
        print('')
        sisiX = float(input("Masukkan Sisi X : "))
        sisiY = float(input("Masukkan Sisi Y : "))
        sisiZ = float(input("Masukkan Sisi Z : "))
        print('')
        print('')
        print("Keliling Segitiga = %.2f" %KelilingSegitiga(sisiX,sisiY,sisiZ))
        print('')
        print('')
    elif pilihan == 0:
        print("exit")
        break
    else:
        print("Masukkan ulang pilihan anda")

